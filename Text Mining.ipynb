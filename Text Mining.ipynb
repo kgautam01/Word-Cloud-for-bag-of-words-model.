{
 "cells": [
  {
   "cell_type": "code",
   "execution_count": null,
   "metadata": {},
   "outputs": [],
   "source": [
    "#importing the required packages\n",
    "import pandas as pd\n",
    "import numpy as np\n",
    "import nltk\n",
    "from nltk.corpus import stopwords\n",
    "from nltk.stem import PorterStemmer\n",
    "ps = PorterStemmer()\n",
    "from wordcloud import WordCloud, STOPWORDS\n",
    "import matplotlib.pyplot as plt\n",
    "from googletrans import Translator"
   ]
  },
  {
   "cell_type": "code",
   "execution_count": null,
   "metadata": {},
   "outputs": [],
   "source": [
    "#importing dataset and creating required dataframe\n",
    "dataset = pd.read_excel('data.xlsx')\n",
    "data = dataset.field\n",
    "data = data.dropna()\n",
    "data.reset_index(drop =True, inplace = True)"
   ]
  },
  {
   "cell_type": "code",
   "execution_count": null,
   "metadata": {},
   "outputs": [],
   "source": [
    "#Text Mining\n",
    "sw = stopwords.words('english')\n",
    "data_array = np.array(data)\n",
    "for i in range(len(data_array)):\n",
    "    trans = Translator()\n",
    "    data_array[i] = trans.translate(data_array[i].replace('#',' ').lower()).text.split()"
   ]
  },
  {
   "cell_type": "code",
   "execution_count": null,
   "metadata": {},
   "outputs": [],
   "source": [
    "for i in range(len(data_array)):\n",
    "    for j in range(len(data_array[i])):\n",
    "        data_array[i][j] = ''.join(c for c in data_array[i][j] if c.isalpha())\n",
    "    data_array[i] = [ps.stem(word) for word in data_array[i] if (not word in sw) & (not word is '')]"
   ]
  },
  {
   "cell_type": "code",
   "execution_count": null,
   "metadata": {},
   "outputs": [],
   "source": [
    "#Converting array to a series\n",
    "data = data_array.tolist()"
   ]
  },
  {
   "cell_type": "code",
   "execution_count": null,
   "metadata": {},
   "outputs": [],
   "source": [
    "#Generating a word cloud\n",
    "from wordcloud import WordCloud, STOPWORDS\n",
    "cloud_string = ''\n",
    "for word_list in data:\n",
    "    cloud_string = cloud_string + ' ' + (' '.join(word_list))\n",
    "wordcloud = WordCloud(stopwords=STOPWORDS,\n",
    "                      max_words = 30,\n",
    "                      background_color='white',\n",
    "                      width=1200,\n",
    "                      height=1000).generate(cloud_string)\n",
    "\n",
    "plt.imshow(wordcloud)\n",
    "plt.axis('off')\n",
    "plt.show()"
   ]
  }
 ],
 "metadata": {
  "kernelspec": {
   "display_name": "Python 3",
   "language": "python",
   "name": "python3"
  },
  "language_info": {
   "codemirror_mode": {
    "name": "ipython",
    "version": 3
   },
   "file_extension": ".py",
   "mimetype": "text/x-python",
   "name": "python",
   "nbconvert_exporter": "python",
   "pygments_lexer": "ipython3",
   "version": "3.6.5"
  }
 },
 "nbformat": 4,
 "nbformat_minor": 2
}
